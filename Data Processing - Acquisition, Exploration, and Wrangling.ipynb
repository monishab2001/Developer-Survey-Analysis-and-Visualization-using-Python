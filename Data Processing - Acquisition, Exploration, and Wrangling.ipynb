{
 "cells": [
  {
   "cell_type": "markdown",
   "id": "d9b95c50-678d-46e2-b6ba-66245ce37392",
   "metadata": {},
   "source": [
    "### **Data Acquisition**"
   ]
  },
  {
   "cell_type": "code",
   "execution_count": 161,
   "id": "d98a3c58-6752-4f38-97db-a23d5b6a05ce",
   "metadata": {},
   "outputs": [],
   "source": [
    "# Importing essential libraries.\n",
    "import numpy as np\n",
    "import pandas as pd\n",
    "import matplotlib.pyplot as plt\n",
    "import seaborn as sns\n",
    "from sklearn.preprocessing import MinMaxScaler, StandardScaler"
   ]
  },
  {
   "cell_type": "markdown",
   "id": "62a22c97-5aa7-418e-8286-113cbdff1d5d",
   "metadata": {},
   "source": [
    "*Note: Ensure `raw_survey_data.csv` is in the same directory as this notebook before running the code.*"
   ]
  },
  {
   "cell_type": "code",
   "execution_count": 162,
   "id": "5463b3aa-0f83-42be-93b0-44ec22a24fb3",
   "metadata": {},
   "outputs": [],
   "source": [
    "# Loading dataset from csv into Pandas DataFrame.\n",
    "df = pd.read_csv('raw_survey_data.csv')"
   ]
  },
  {
   "cell_type": "markdown",
   "id": "d771abb8-6efb-41e8-92f8-b91a17622657",
   "metadata": {},
   "source": [
    "### **Data Exploration**"
   ]
  },
  {
   "cell_type": "code",
   "execution_count": 163,
   "id": "11e6f210-e8b7-43f7-87c3-9aaa6f7b5e88",
   "metadata": {},
   "outputs": [
    {
     "data": {
      "text/html": [
       "<div>\n",
       "<style scoped>\n",
       "    .dataframe tbody tr th:only-of-type {\n",
       "        vertical-align: middle;\n",
       "    }\n",
       "\n",
       "    .dataframe tbody tr th {\n",
       "        vertical-align: top;\n",
       "    }\n",
       "\n",
       "    .dataframe thead th {\n",
       "        text-align: right;\n",
       "    }\n",
       "</style>\n",
       "<table border=\"1\" class=\"dataframe\">\n",
       "  <thead>\n",
       "    <tr style=\"text-align: right;\">\n",
       "      <th></th>\n",
       "      <th>Respondent</th>\n",
       "      <th>MainBranch</th>\n",
       "      <th>Hobbyist</th>\n",
       "      <th>OpenSourcer</th>\n",
       "      <th>OpenSource</th>\n",
       "      <th>Employment</th>\n",
       "      <th>Country</th>\n",
       "      <th>Student</th>\n",
       "      <th>EdLevel</th>\n",
       "      <th>UndergradMajor</th>\n",
       "      <th>...</th>\n",
       "      <th>WelcomeChange</th>\n",
       "      <th>SONewContent</th>\n",
       "      <th>Age</th>\n",
       "      <th>Gender</th>\n",
       "      <th>Trans</th>\n",
       "      <th>Sexuality</th>\n",
       "      <th>Ethnicity</th>\n",
       "      <th>Dependents</th>\n",
       "      <th>SurveyLength</th>\n",
       "      <th>SurveyEase</th>\n",
       "    </tr>\n",
       "  </thead>\n",
       "  <tbody>\n",
       "    <tr>\n",
       "      <th>0</th>\n",
       "      <td>4</td>\n",
       "      <td>I am a developer by profession</td>\n",
       "      <td>No</td>\n",
       "      <td>Never</td>\n",
       "      <td>The quality of OSS and closed source software ...</td>\n",
       "      <td>Employed full-time</td>\n",
       "      <td>United States</td>\n",
       "      <td>No</td>\n",
       "      <td>Bachelor’s degree (BA, BS, B.Eng., etc.)</td>\n",
       "      <td>Computer science, computer engineering, or sof...</td>\n",
       "      <td>...</td>\n",
       "      <td>Just as welcome now as I felt last year</td>\n",
       "      <td>Tech articles written by other developers;Indu...</td>\n",
       "      <td>22.0</td>\n",
       "      <td>Man</td>\n",
       "      <td>No</td>\n",
       "      <td>Straight / Heterosexual</td>\n",
       "      <td>White or of European descent</td>\n",
       "      <td>No</td>\n",
       "      <td>Appropriate in length</td>\n",
       "      <td>Easy</td>\n",
       "    </tr>\n",
       "    <tr>\n",
       "      <th>1</th>\n",
       "      <td>9</td>\n",
       "      <td>I am a developer by profession</td>\n",
       "      <td>Yes</td>\n",
       "      <td>Once a month or more often</td>\n",
       "      <td>The quality of OSS and closed source software ...</td>\n",
       "      <td>Employed full-time</td>\n",
       "      <td>New Zealand</td>\n",
       "      <td>No</td>\n",
       "      <td>Some college/university study without earning ...</td>\n",
       "      <td>Computer science, computer engineering, or sof...</td>\n",
       "      <td>...</td>\n",
       "      <td>Just as welcome now as I felt last year</td>\n",
       "      <td>NaN</td>\n",
       "      <td>23.0</td>\n",
       "      <td>Man</td>\n",
       "      <td>No</td>\n",
       "      <td>Bisexual</td>\n",
       "      <td>White or of European descent</td>\n",
       "      <td>No</td>\n",
       "      <td>Appropriate in length</td>\n",
       "      <td>Neither easy nor difficult</td>\n",
       "    </tr>\n",
       "    <tr>\n",
       "      <th>2</th>\n",
       "      <td>13</td>\n",
       "      <td>I am a developer by profession</td>\n",
       "      <td>Yes</td>\n",
       "      <td>Less than once a month but more than once per ...</td>\n",
       "      <td>OSS is, on average, of HIGHER quality than pro...</td>\n",
       "      <td>Employed full-time</td>\n",
       "      <td>United States</td>\n",
       "      <td>No</td>\n",
       "      <td>Master’s degree (MA, MS, M.Eng., MBA, etc.)</td>\n",
       "      <td>Computer science, computer engineering, or sof...</td>\n",
       "      <td>...</td>\n",
       "      <td>Somewhat more welcome now than last year</td>\n",
       "      <td>Tech articles written by other developers;Cour...</td>\n",
       "      <td>28.0</td>\n",
       "      <td>Man</td>\n",
       "      <td>No</td>\n",
       "      <td>Straight / Heterosexual</td>\n",
       "      <td>White or of European descent</td>\n",
       "      <td>Yes</td>\n",
       "      <td>Appropriate in length</td>\n",
       "      <td>Easy</td>\n",
       "    </tr>\n",
       "    <tr>\n",
       "      <th>3</th>\n",
       "      <td>16</td>\n",
       "      <td>I am a developer by profession</td>\n",
       "      <td>Yes</td>\n",
       "      <td>Never</td>\n",
       "      <td>The quality of OSS and closed source software ...</td>\n",
       "      <td>Employed full-time</td>\n",
       "      <td>United Kingdom</td>\n",
       "      <td>No</td>\n",
       "      <td>Master’s degree (MA, MS, M.Eng., MBA, etc.)</td>\n",
       "      <td>NaN</td>\n",
       "      <td>...</td>\n",
       "      <td>Just as welcome now as I felt last year</td>\n",
       "      <td>Tech articles written by other developers;Indu...</td>\n",
       "      <td>26.0</td>\n",
       "      <td>Man</td>\n",
       "      <td>No</td>\n",
       "      <td>Straight / Heterosexual</td>\n",
       "      <td>White or of European descent</td>\n",
       "      <td>No</td>\n",
       "      <td>Appropriate in length</td>\n",
       "      <td>Neither easy nor difficult</td>\n",
       "    </tr>\n",
       "    <tr>\n",
       "      <th>4</th>\n",
       "      <td>17</td>\n",
       "      <td>I am a developer by profession</td>\n",
       "      <td>Yes</td>\n",
       "      <td>Less than once a month but more than once per ...</td>\n",
       "      <td>The quality of OSS and closed source software ...</td>\n",
       "      <td>Employed full-time</td>\n",
       "      <td>Australia</td>\n",
       "      <td>No</td>\n",
       "      <td>Bachelor’s degree (BA, BS, B.Eng., etc.)</td>\n",
       "      <td>Computer science, computer engineering, or sof...</td>\n",
       "      <td>...</td>\n",
       "      <td>Just as welcome now as I felt last year</td>\n",
       "      <td>Tech articles written by other developers;Indu...</td>\n",
       "      <td>29.0</td>\n",
       "      <td>Man</td>\n",
       "      <td>No</td>\n",
       "      <td>Straight / Heterosexual</td>\n",
       "      <td>Hispanic or Latino/Latina;Multiracial</td>\n",
       "      <td>No</td>\n",
       "      <td>Appropriate in length</td>\n",
       "      <td>Easy</td>\n",
       "    </tr>\n",
       "  </tbody>\n",
       "</table>\n",
       "<p>5 rows × 82 columns</p>\n",
       "</div>"
      ],
      "text/plain": [
       "   Respondent                      MainBranch Hobbyist  \\\n",
       "0           4  I am a developer by profession       No   \n",
       "1           9  I am a developer by profession      Yes   \n",
       "2          13  I am a developer by profession      Yes   \n",
       "3          16  I am a developer by profession      Yes   \n",
       "4          17  I am a developer by profession      Yes   \n",
       "\n",
       "                                         OpenSourcer  \\\n",
       "0                                              Never   \n",
       "1                         Once a month or more often   \n",
       "2  Less than once a month but more than once per ...   \n",
       "3                                              Never   \n",
       "4  Less than once a month but more than once per ...   \n",
       "\n",
       "                                          OpenSource          Employment  \\\n",
       "0  The quality of OSS and closed source software ...  Employed full-time   \n",
       "1  The quality of OSS and closed source software ...  Employed full-time   \n",
       "2  OSS is, on average, of HIGHER quality than pro...  Employed full-time   \n",
       "3  The quality of OSS and closed source software ...  Employed full-time   \n",
       "4  The quality of OSS and closed source software ...  Employed full-time   \n",
       "\n",
       "          Country Student                                            EdLevel  \\\n",
       "0   United States      No           Bachelor’s degree (BA, BS, B.Eng., etc.)   \n",
       "1     New Zealand      No  Some college/university study without earning ...   \n",
       "2   United States      No        Master’s degree (MA, MS, M.Eng., MBA, etc.)   \n",
       "3  United Kingdom      No        Master’s degree (MA, MS, M.Eng., MBA, etc.)   \n",
       "4       Australia      No           Bachelor’s degree (BA, BS, B.Eng., etc.)   \n",
       "\n",
       "                                      UndergradMajor  ...  \\\n",
       "0  Computer science, computer engineering, or sof...  ...   \n",
       "1  Computer science, computer engineering, or sof...  ...   \n",
       "2  Computer science, computer engineering, or sof...  ...   \n",
       "3                                                NaN  ...   \n",
       "4  Computer science, computer engineering, or sof...  ...   \n",
       "\n",
       "                              WelcomeChange  \\\n",
       "0   Just as welcome now as I felt last year   \n",
       "1   Just as welcome now as I felt last year   \n",
       "2  Somewhat more welcome now than last year   \n",
       "3   Just as welcome now as I felt last year   \n",
       "4   Just as welcome now as I felt last year   \n",
       "\n",
       "                                        SONewContent   Age Gender Trans  \\\n",
       "0  Tech articles written by other developers;Indu...  22.0    Man    No   \n",
       "1                                                NaN  23.0    Man    No   \n",
       "2  Tech articles written by other developers;Cour...  28.0    Man    No   \n",
       "3  Tech articles written by other developers;Indu...  26.0    Man    No   \n",
       "4  Tech articles written by other developers;Indu...  29.0    Man    No   \n",
       "\n",
       "                 Sexuality                              Ethnicity Dependents  \\\n",
       "0  Straight / Heterosexual           White or of European descent         No   \n",
       "1                 Bisexual           White or of European descent         No   \n",
       "2  Straight / Heterosexual           White or of European descent        Yes   \n",
       "3  Straight / Heterosexual           White or of European descent         No   \n",
       "4  Straight / Heterosexual  Hispanic or Latino/Latina;Multiracial         No   \n",
       "\n",
       "            SurveyLength                  SurveyEase  \n",
       "0  Appropriate in length                        Easy  \n",
       "1  Appropriate in length  Neither easy nor difficult  \n",
       "2  Appropriate in length                        Easy  \n",
       "3  Appropriate in length  Neither easy nor difficult  \n",
       "4  Appropriate in length                        Easy  \n",
       "\n",
       "[5 rows x 82 columns]"
      ]
     },
     "execution_count": 163,
     "metadata": {},
     "output_type": "execute_result"
    }
   ],
   "source": [
    "# Displays the first five rows of the dataset.\n",
    "df.head()"
   ]
  },
  {
   "cell_type": "code",
   "execution_count": 164,
   "id": "f43df481-b367-4607-85d8-33b222aed55f",
   "metadata": {},
   "outputs": [
    {
     "data": {
      "text/plain": [
       "(11552, 82)"
      ]
     },
     "execution_count": 164,
     "metadata": {},
     "output_type": "execute_result"
    }
   ],
   "source": [
    "# Provides the number of rows and columns in the dataset.\n",
    "df.shape"
   ]
  },
  {
   "cell_type": "code",
   "execution_count": 165,
   "id": "a9c6c48f-1083-44e3-8a9e-eae44c5fc69d",
   "metadata": {},
   "outputs": [
    {
     "name": "stdout",
     "output_type": "stream",
     "text": [
      "Respondent                  int64\n",
      "MainBranch                 object\n",
      "Hobbyist                   object\n",
      "OpenSourcer                object\n",
      "OpenSource                 object\n",
      "Employment                 object\n",
      "Country                    object\n",
      "Student                    object\n",
      "EdLevel                    object\n",
      "UndergradMajor             object\n",
      "EduOther                   object\n",
      "OrgSize                    object\n",
      "DevType                    object\n",
      "YearsCode                  object\n",
      "Age1stCode                 object\n",
      "YearsCodePro               object\n",
      "CareerSat                  object\n",
      "JobSat                     object\n",
      "JobSeek                    object\n",
      "LastHireDate               object\n",
      "LastInt                    object\n",
      "FizzBuzz                   object\n",
      "JobFactors                 object\n",
      "ResumeUpdate               object\n",
      "CurrencySymbol             object\n",
      "CurrencyDesc               object\n",
      "CompTotal                 float64\n",
      "CompFreq                   object\n",
      "ConvertedComp             float64\n",
      "WorkWeekHrs               float64\n",
      "WorkPlan                   object\n",
      "WorkChallenge              object\n",
      "WorkRemote                 object\n",
      "WorkLoc                    object\n",
      "ImpSyn                     object\n",
      "CodeRev                    object\n",
      "CodeRevHrs                float64\n",
      "UnitTests                  object\n",
      "PurchaseHow                object\n",
      "PurchaseWhat               object\n",
      "LanguageWorkedWith         object\n",
      "LanguageDesireNextYear     object\n",
      "DatabaseWorkedWith         object\n",
      "DatabaseDesireNextYear     object\n",
      "PlatformWorkedWith         object\n",
      "PlatformDesireNextYear     object\n",
      "WebFrameWorkedWith         object\n",
      "WebFrameDesireNextYear     object\n",
      "MiscTechWorkedWith         object\n",
      "MiscTechDesireNextYear     object\n",
      "DevEnviron                 object\n",
      "OpSys                      object\n",
      "Containers                 object\n",
      "BlockchainOrg              object\n",
      "BlockchainIs               object\n",
      "BetterLife                 object\n",
      "ITperson                   object\n",
      "OffOn                      object\n",
      "SocialMedia                object\n",
      "Extraversion               object\n",
      "ScreenName                 object\n",
      "SOVisit1st                 object\n",
      "SOVisitFreq                object\n",
      "SOVisitTo                  object\n",
      "SOFindAnswer               object\n",
      "SOTimeSaved                object\n",
      "SOHowMuchTime              object\n",
      "SOAccount                  object\n",
      "SOPartFreq                 object\n",
      "SOJobs                     object\n",
      "EntTeams                   object\n",
      "SOComm                     object\n",
      "WelcomeChange              object\n",
      "SONewContent               object\n",
      "Age                       float64\n",
      "Gender                     object\n",
      "Trans                      object\n",
      "Sexuality                  object\n",
      "Ethnicity                  object\n",
      "Dependents                 object\n",
      "SurveyLength               object\n",
      "SurveyEase                 object\n"
     ]
    }
   ],
   "source": [
    "# Identifies the data types of each column.\n",
    "print(df.dtypes.to_string())"
   ]
  },
  {
   "cell_type": "code",
   "execution_count": 166,
   "id": "3e5543d1-a527-4e8a-a495-a3e620b7c1d4",
   "metadata": {},
   "outputs": [
    {
     "data": {
      "text/plain": [
       "30.77239449133718"
      ]
     },
     "execution_count": 166,
     "metadata": {},
     "output_type": "execute_result"
    }
   ],
   "source": [
    "# Computes the average age of individuals in the dataset.\n",
    "df['Age'].mean()"
   ]
  },
  {
   "cell_type": "code",
   "execution_count": 167,
   "id": "8455b218-fa5a-42af-aa80-a9fb84a9a776",
   "metadata": {},
   "outputs": [
    {
     "data": {
      "text/plain": [
       "135"
      ]
     },
     "execution_count": 167,
     "metadata": {},
     "output_type": "execute_result"
    }
   ],
   "source": [
    "# Counts the number of unique countries represented in the dataset.\n",
    "df['Country'].nunique()"
   ]
  },
  {
   "cell_type": "markdown",
   "id": "2cc8638b-9032-4361-85b4-00988e4fbfb9",
   "metadata": {},
   "source": [
    "### **Data Wrangling**"
   ]
  },
  {
   "cell_type": "markdown",
   "id": "3567e952-84ec-42c2-adb3-85b39985c5d0",
   "metadata": {},
   "source": [
    "#### Identifying Duplicates"
   ]
  },
  {
   "cell_type": "code",
   "execution_count": 168,
   "id": "97b2674c-5e58-4b40-a6c0-25e1c2c01264",
   "metadata": {},
   "outputs": [
    {
     "data": {
      "text/html": [
       "<div>\n",
       "<style scoped>\n",
       "    .dataframe tbody tr th:only-of-type {\n",
       "        vertical-align: middle;\n",
       "    }\n",
       "\n",
       "    .dataframe tbody tr th {\n",
       "        vertical-align: top;\n",
       "    }\n",
       "\n",
       "    .dataframe thead th {\n",
       "        text-align: right;\n",
       "    }\n",
       "</style>\n",
       "<table border=\"1\" class=\"dataframe\">\n",
       "  <thead>\n",
       "    <tr style=\"text-align: right;\">\n",
       "      <th></th>\n",
       "      <th>Respondent</th>\n",
       "      <th>MainBranch</th>\n",
       "      <th>Hobbyist</th>\n",
       "      <th>OpenSourcer</th>\n",
       "      <th>OpenSource</th>\n",
       "      <th>Employment</th>\n",
       "      <th>Country</th>\n",
       "      <th>Student</th>\n",
       "      <th>EdLevel</th>\n",
       "      <th>UndergradMajor</th>\n",
       "      <th>...</th>\n",
       "      <th>WelcomeChange</th>\n",
       "      <th>SONewContent</th>\n",
       "      <th>Age</th>\n",
       "      <th>Gender</th>\n",
       "      <th>Trans</th>\n",
       "      <th>Sexuality</th>\n",
       "      <th>Ethnicity</th>\n",
       "      <th>Dependents</th>\n",
       "      <th>SurveyLength</th>\n",
       "      <th>SurveyEase</th>\n",
       "    </tr>\n",
       "  </thead>\n",
       "  <tbody>\n",
       "    <tr>\n",
       "      <th>1168</th>\n",
       "      <td>2339</td>\n",
       "      <td>I am a developer by profession</td>\n",
       "      <td>Yes</td>\n",
       "      <td>Once a month or more often</td>\n",
       "      <td>OSS is, on average, of HIGHER quality than pro...</td>\n",
       "      <td>Employed full-time</td>\n",
       "      <td>United States</td>\n",
       "      <td>No</td>\n",
       "      <td>Some college/university study without earning ...</td>\n",
       "      <td>Computer science, computer engineering, or sof...</td>\n",
       "      <td>...</td>\n",
       "      <td>Just as welcome now as I felt last year</td>\n",
       "      <td>NaN</td>\n",
       "      <td>24.0</td>\n",
       "      <td>Man</td>\n",
       "      <td>No</td>\n",
       "      <td>Straight / Heterosexual</td>\n",
       "      <td>White or of European descent</td>\n",
       "      <td>No</td>\n",
       "      <td>Appropriate in length</td>\n",
       "      <td>Easy</td>\n",
       "    </tr>\n",
       "    <tr>\n",
       "      <th>1169</th>\n",
       "      <td>2342</td>\n",
       "      <td>I am a developer by profession</td>\n",
       "      <td>Yes</td>\n",
       "      <td>Never</td>\n",
       "      <td>The quality of OSS and closed source software ...</td>\n",
       "      <td>Employed full-time</td>\n",
       "      <td>United Kingdom</td>\n",
       "      <td>No</td>\n",
       "      <td>Some college/university study without earning ...</td>\n",
       "      <td>Information systems, information technology, o...</td>\n",
       "      <td>...</td>\n",
       "      <td>Somewhat more welcome now than last year</td>\n",
       "      <td>Tech meetups or events in your area;Courses on...</td>\n",
       "      <td>24.0</td>\n",
       "      <td>Man</td>\n",
       "      <td>No</td>\n",
       "      <td>Straight / Heterosexual</td>\n",
       "      <td>White or of European descent</td>\n",
       "      <td>No</td>\n",
       "      <td>Too long</td>\n",
       "      <td>Easy</td>\n",
       "    </tr>\n",
       "    <tr>\n",
       "      <th>1170</th>\n",
       "      <td>2343</td>\n",
       "      <td>I am a developer by profession</td>\n",
       "      <td>Yes</td>\n",
       "      <td>Less than once a month but more than once per ...</td>\n",
       "      <td>OSS is, on average, of LOWER quality than prop...</td>\n",
       "      <td>Employed full-time</td>\n",
       "      <td>Canada</td>\n",
       "      <td>No</td>\n",
       "      <td>Master’s degree (MA, MS, M.Eng., MBA, etc.)</td>\n",
       "      <td>Computer science, computer engineering, or sof...</td>\n",
       "      <td>...</td>\n",
       "      <td>Somewhat more welcome now than last year</td>\n",
       "      <td>Tech articles written by other developers;Indu...</td>\n",
       "      <td>27.0</td>\n",
       "      <td>Man</td>\n",
       "      <td>No</td>\n",
       "      <td>Straight / Heterosexual</td>\n",
       "      <td>Black or of African descent;White or of Europe...</td>\n",
       "      <td>No</td>\n",
       "      <td>Appropriate in length</td>\n",
       "      <td>Neither easy nor difficult</td>\n",
       "    </tr>\n",
       "    <tr>\n",
       "      <th>1171</th>\n",
       "      <td>2344</td>\n",
       "      <td>I am a developer by profession</td>\n",
       "      <td>Yes</td>\n",
       "      <td>Never</td>\n",
       "      <td>The quality of OSS and closed source software ...</td>\n",
       "      <td>Employed full-time</td>\n",
       "      <td>United States</td>\n",
       "      <td>No</td>\n",
       "      <td>Bachelor’s degree (BA, BS, B.Eng., etc.)</td>\n",
       "      <td>Computer science, computer engineering, or sof...</td>\n",
       "      <td>...</td>\n",
       "      <td>Just as welcome now as I felt last year</td>\n",
       "      <td>Tech articles written by other developers;Indu...</td>\n",
       "      <td>24.0</td>\n",
       "      <td>Man</td>\n",
       "      <td>No</td>\n",
       "      <td>Straight / Heterosexual</td>\n",
       "      <td>White or of European descent</td>\n",
       "      <td>No</td>\n",
       "      <td>Appropriate in length</td>\n",
       "      <td>Easy</td>\n",
       "    </tr>\n",
       "    <tr>\n",
       "      <th>1172</th>\n",
       "      <td>2347</td>\n",
       "      <td>I am a developer by profession</td>\n",
       "      <td>Yes</td>\n",
       "      <td>Never</td>\n",
       "      <td>OSS is, on average, of HIGHER quality than pro...</td>\n",
       "      <td>Employed full-time</td>\n",
       "      <td>United Kingdom</td>\n",
       "      <td>No</td>\n",
       "      <td>Master’s degree (MA, MS, M.Eng., MBA, etc.)</td>\n",
       "      <td>Computer science, computer engineering, or sof...</td>\n",
       "      <td>...</td>\n",
       "      <td>Just as welcome now as I felt last year</td>\n",
       "      <td>NaN</td>\n",
       "      <td>NaN</td>\n",
       "      <td>Woman</td>\n",
       "      <td>No</td>\n",
       "      <td>Straight / Heterosexual</td>\n",
       "      <td>Biracial</td>\n",
       "      <td>No</td>\n",
       "      <td>Too long</td>\n",
       "      <td>Easy</td>\n",
       "    </tr>\n",
       "    <tr>\n",
       "      <th>...</th>\n",
       "      <td>...</td>\n",
       "      <td>...</td>\n",
       "      <td>...</td>\n",
       "      <td>...</td>\n",
       "      <td>...</td>\n",
       "      <td>...</td>\n",
       "      <td>...</td>\n",
       "      <td>...</td>\n",
       "      <td>...</td>\n",
       "      <td>...</td>\n",
       "      <td>...</td>\n",
       "      <td>...</td>\n",
       "      <td>...</td>\n",
       "      <td>...</td>\n",
       "      <td>...</td>\n",
       "      <td>...</td>\n",
       "      <td>...</td>\n",
       "      <td>...</td>\n",
       "      <td>...</td>\n",
       "      <td>...</td>\n",
       "      <td>...</td>\n",
       "    </tr>\n",
       "    <tr>\n",
       "      <th>2297</th>\n",
       "      <td>4674</td>\n",
       "      <td>I am not primarily a developer, but I write co...</td>\n",
       "      <td>Yes</td>\n",
       "      <td>Less than once per year</td>\n",
       "      <td>The quality of OSS and closed source software ...</td>\n",
       "      <td>Employed full-time</td>\n",
       "      <td>Bangladesh</td>\n",
       "      <td>No</td>\n",
       "      <td>Bachelor’s degree (BA, BS, B.Eng., etc.)</td>\n",
       "      <td>NaN</td>\n",
       "      <td>...</td>\n",
       "      <td>Somewhat less welcome now than last year</td>\n",
       "      <td>Tech articles written by other developers;Indu...</td>\n",
       "      <td>31.0</td>\n",
       "      <td>Man</td>\n",
       "      <td>No</td>\n",
       "      <td>Bisexual;Gay or Lesbian;Straight / Heterosexual</td>\n",
       "      <td>Black or of African descent;Hispanic or Latino...</td>\n",
       "      <td>Yes</td>\n",
       "      <td>Too long</td>\n",
       "      <td>Neither easy nor difficult</td>\n",
       "    </tr>\n",
       "    <tr>\n",
       "      <th>2298</th>\n",
       "      <td>4675</td>\n",
       "      <td>I am a developer by profession</td>\n",
       "      <td>Yes</td>\n",
       "      <td>Never</td>\n",
       "      <td>OSS is, on average, of HIGHER quality than pro...</td>\n",
       "      <td>Employed full-time</td>\n",
       "      <td>United States</td>\n",
       "      <td>No</td>\n",
       "      <td>Bachelor’s degree (BA, BS, B.Eng., etc.)</td>\n",
       "      <td>Information systems, information technology, o...</td>\n",
       "      <td>...</td>\n",
       "      <td>Just as welcome now as I felt last year</td>\n",
       "      <td>Tech meetups or events in your area</td>\n",
       "      <td>27.0</td>\n",
       "      <td>Man</td>\n",
       "      <td>No</td>\n",
       "      <td>Straight / Heterosexual</td>\n",
       "      <td>White or of European descent</td>\n",
       "      <td>No</td>\n",
       "      <td>Appropriate in length</td>\n",
       "      <td>Easy</td>\n",
       "    </tr>\n",
       "    <tr>\n",
       "      <th>2299</th>\n",
       "      <td>4676</td>\n",
       "      <td>I am a developer by profession</td>\n",
       "      <td>Yes</td>\n",
       "      <td>Never</td>\n",
       "      <td>OSS is, on average, of HIGHER quality than pro...</td>\n",
       "      <td>Employed full-time</td>\n",
       "      <td>Finland</td>\n",
       "      <td>No</td>\n",
       "      <td>Master’s degree (MA, MS, M.Eng., MBA, etc.)</td>\n",
       "      <td>Another engineering discipline (ex. civil, ele...</td>\n",
       "      <td>...</td>\n",
       "      <td>Somewhat less welcome now than last year</td>\n",
       "      <td>NaN</td>\n",
       "      <td>36.0</td>\n",
       "      <td>Man</td>\n",
       "      <td>No</td>\n",
       "      <td>Straight / Heterosexual</td>\n",
       "      <td>White or of European descent</td>\n",
       "      <td>Yes</td>\n",
       "      <td>Too long</td>\n",
       "      <td>Easy</td>\n",
       "    </tr>\n",
       "    <tr>\n",
       "      <th>2300</th>\n",
       "      <td>4677</td>\n",
       "      <td>I am a developer by profession</td>\n",
       "      <td>Yes</td>\n",
       "      <td>Once a month or more often</td>\n",
       "      <td>OSS is, on average, of HIGHER quality than pro...</td>\n",
       "      <td>Employed full-time</td>\n",
       "      <td>United Kingdom</td>\n",
       "      <td>No</td>\n",
       "      <td>Bachelor’s degree (BA, BS, B.Eng., etc.)</td>\n",
       "      <td>A natural science (ex. biology, chemistry, phy...</td>\n",
       "      <td>...</td>\n",
       "      <td>Just as welcome now as I felt last year</td>\n",
       "      <td>NaN</td>\n",
       "      <td>40.0</td>\n",
       "      <td>Man</td>\n",
       "      <td>No</td>\n",
       "      <td>Straight / Heterosexual</td>\n",
       "      <td>White or of European descent</td>\n",
       "      <td>Yes</td>\n",
       "      <td>Appropriate in length</td>\n",
       "      <td>Easy</td>\n",
       "    </tr>\n",
       "    <tr>\n",
       "      <th>2301</th>\n",
       "      <td>4679</td>\n",
       "      <td>I am a developer by profession</td>\n",
       "      <td>Yes</td>\n",
       "      <td>Less than once a month but more than once per ...</td>\n",
       "      <td>The quality of OSS and closed source software ...</td>\n",
       "      <td>Employed full-time</td>\n",
       "      <td>United States</td>\n",
       "      <td>No</td>\n",
       "      <td>Master’s degree (MA, MS, M.Eng., MBA, etc.)</td>\n",
       "      <td>Computer science, computer engineering, or sof...</td>\n",
       "      <td>...</td>\n",
       "      <td>Just as welcome now as I felt last year</td>\n",
       "      <td>NaN</td>\n",
       "      <td>27.0</td>\n",
       "      <td>Man</td>\n",
       "      <td>No</td>\n",
       "      <td>NaN</td>\n",
       "      <td>White or of European descent</td>\n",
       "      <td>No</td>\n",
       "      <td>Appropriate in length</td>\n",
       "      <td>Easy</td>\n",
       "    </tr>\n",
       "  </tbody>\n",
       "</table>\n",
       "<p>154 rows × 82 columns</p>\n",
       "</div>"
      ],
      "text/plain": [
       "      Respondent                                         MainBranch Hobbyist  \\\n",
       "1168        2339                     I am a developer by profession      Yes   \n",
       "1169        2342                     I am a developer by profession      Yes   \n",
       "1170        2343                     I am a developer by profession      Yes   \n",
       "1171        2344                     I am a developer by profession      Yes   \n",
       "1172        2347                     I am a developer by profession      Yes   \n",
       "...          ...                                                ...      ...   \n",
       "2297        4674  I am not primarily a developer, but I write co...      Yes   \n",
       "2298        4675                     I am a developer by profession      Yes   \n",
       "2299        4676                     I am a developer by profession      Yes   \n",
       "2300        4677                     I am a developer by profession      Yes   \n",
       "2301        4679                     I am a developer by profession      Yes   \n",
       "\n",
       "                                            OpenSourcer  \\\n",
       "1168                         Once a month or more often   \n",
       "1169                                              Never   \n",
       "1170  Less than once a month but more than once per ...   \n",
       "1171                                              Never   \n",
       "1172                                              Never   \n",
       "...                                                 ...   \n",
       "2297                            Less than once per year   \n",
       "2298                                              Never   \n",
       "2299                                              Never   \n",
       "2300                         Once a month or more often   \n",
       "2301  Less than once a month but more than once per ...   \n",
       "\n",
       "                                             OpenSource          Employment  \\\n",
       "1168  OSS is, on average, of HIGHER quality than pro...  Employed full-time   \n",
       "1169  The quality of OSS and closed source software ...  Employed full-time   \n",
       "1170  OSS is, on average, of LOWER quality than prop...  Employed full-time   \n",
       "1171  The quality of OSS and closed source software ...  Employed full-time   \n",
       "1172  OSS is, on average, of HIGHER quality than pro...  Employed full-time   \n",
       "...                                                 ...                 ...   \n",
       "2297  The quality of OSS and closed source software ...  Employed full-time   \n",
       "2298  OSS is, on average, of HIGHER quality than pro...  Employed full-time   \n",
       "2299  OSS is, on average, of HIGHER quality than pro...  Employed full-time   \n",
       "2300  OSS is, on average, of HIGHER quality than pro...  Employed full-time   \n",
       "2301  The quality of OSS and closed source software ...  Employed full-time   \n",
       "\n",
       "             Country Student  \\\n",
       "1168   United States      No   \n",
       "1169  United Kingdom      No   \n",
       "1170          Canada      No   \n",
       "1171   United States      No   \n",
       "1172  United Kingdom      No   \n",
       "...              ...     ...   \n",
       "2297      Bangladesh      No   \n",
       "2298   United States      No   \n",
       "2299         Finland      No   \n",
       "2300  United Kingdom      No   \n",
       "2301   United States      No   \n",
       "\n",
       "                                                EdLevel  \\\n",
       "1168  Some college/university study without earning ...   \n",
       "1169  Some college/university study without earning ...   \n",
       "1170        Master’s degree (MA, MS, M.Eng., MBA, etc.)   \n",
       "1171           Bachelor’s degree (BA, BS, B.Eng., etc.)   \n",
       "1172        Master’s degree (MA, MS, M.Eng., MBA, etc.)   \n",
       "...                                                 ...   \n",
       "2297           Bachelor’s degree (BA, BS, B.Eng., etc.)   \n",
       "2298           Bachelor’s degree (BA, BS, B.Eng., etc.)   \n",
       "2299        Master’s degree (MA, MS, M.Eng., MBA, etc.)   \n",
       "2300           Bachelor’s degree (BA, BS, B.Eng., etc.)   \n",
       "2301        Master’s degree (MA, MS, M.Eng., MBA, etc.)   \n",
       "\n",
       "                                         UndergradMajor  ...  \\\n",
       "1168  Computer science, computer engineering, or sof...  ...   \n",
       "1169  Information systems, information technology, o...  ...   \n",
       "1170  Computer science, computer engineering, or sof...  ...   \n",
       "1171  Computer science, computer engineering, or sof...  ...   \n",
       "1172  Computer science, computer engineering, or sof...  ...   \n",
       "...                                                 ...  ...   \n",
       "2297                                                NaN  ...   \n",
       "2298  Information systems, information technology, o...  ...   \n",
       "2299  Another engineering discipline (ex. civil, ele...  ...   \n",
       "2300  A natural science (ex. biology, chemistry, phy...  ...   \n",
       "2301  Computer science, computer engineering, or sof...  ...   \n",
       "\n",
       "                                 WelcomeChange  \\\n",
       "1168   Just as welcome now as I felt last year   \n",
       "1169  Somewhat more welcome now than last year   \n",
       "1170  Somewhat more welcome now than last year   \n",
       "1171   Just as welcome now as I felt last year   \n",
       "1172   Just as welcome now as I felt last year   \n",
       "...                                        ...   \n",
       "2297  Somewhat less welcome now than last year   \n",
       "2298   Just as welcome now as I felt last year   \n",
       "2299  Somewhat less welcome now than last year   \n",
       "2300   Just as welcome now as I felt last year   \n",
       "2301   Just as welcome now as I felt last year   \n",
       "\n",
       "                                           SONewContent   Age Gender Trans  \\\n",
       "1168                                                NaN  24.0    Man    No   \n",
       "1169  Tech meetups or events in your area;Courses on...  24.0    Man    No   \n",
       "1170  Tech articles written by other developers;Indu...  27.0    Man    No   \n",
       "1171  Tech articles written by other developers;Indu...  24.0    Man    No   \n",
       "1172                                                NaN   NaN  Woman    No   \n",
       "...                                                 ...   ...    ...   ...   \n",
       "2297  Tech articles written by other developers;Indu...  31.0    Man    No   \n",
       "2298                Tech meetups or events in your area  27.0    Man    No   \n",
       "2299                                                NaN  36.0    Man    No   \n",
       "2300                                                NaN  40.0    Man    No   \n",
       "2301                                                NaN  27.0    Man    No   \n",
       "\n",
       "                                            Sexuality  \\\n",
       "1168                          Straight / Heterosexual   \n",
       "1169                          Straight / Heterosexual   \n",
       "1170                          Straight / Heterosexual   \n",
       "1171                          Straight / Heterosexual   \n",
       "1172                          Straight / Heterosexual   \n",
       "...                                               ...   \n",
       "2297  Bisexual;Gay or Lesbian;Straight / Heterosexual   \n",
       "2298                          Straight / Heterosexual   \n",
       "2299                          Straight / Heterosexual   \n",
       "2300                          Straight / Heterosexual   \n",
       "2301                                              NaN   \n",
       "\n",
       "                                              Ethnicity Dependents  \\\n",
       "1168                       White or of European descent         No   \n",
       "1169                       White or of European descent         No   \n",
       "1170  Black or of African descent;White or of Europe...         No   \n",
       "1171                       White or of European descent         No   \n",
       "1172                                           Biracial         No   \n",
       "...                                                 ...        ...   \n",
       "2297  Black or of African descent;Hispanic or Latino...        Yes   \n",
       "2298                       White or of European descent         No   \n",
       "2299                       White or of European descent        Yes   \n",
       "2300                       White or of European descent        Yes   \n",
       "2301                       White or of European descent         No   \n",
       "\n",
       "               SurveyLength                  SurveyEase  \n",
       "1168  Appropriate in length                        Easy  \n",
       "1169               Too long                        Easy  \n",
       "1170  Appropriate in length  Neither easy nor difficult  \n",
       "1171  Appropriate in length                        Easy  \n",
       "1172               Too long                        Easy  \n",
       "...                     ...                         ...  \n",
       "2297               Too long  Neither easy nor difficult  \n",
       "2298  Appropriate in length                        Easy  \n",
       "2299               Too long                        Easy  \n",
       "2300  Appropriate in length                        Easy  \n",
       "2301  Appropriate in length                        Easy  \n",
       "\n",
       "[154 rows x 82 columns]"
      ]
     },
     "execution_count": 168,
     "metadata": {},
     "output_type": "execute_result"
    }
   ],
   "source": [
    "# Extracts and displays all duplicate rows present in the dataset.\n",
    "duplicate_rows = df[df.duplicated()]\n",
    "duplicate_rows"
   ]
  },
  {
   "cell_type": "code",
   "execution_count": 169,
   "id": "19ad9ccf-b5ea-4276-aaaa-ece0aded4419",
   "metadata": {},
   "outputs": [
    {
     "data": {
      "text/plain": [
       "154"
      ]
     },
     "execution_count": 169,
     "metadata": {},
     "output_type": "execute_result"
    }
   ],
   "source": [
    "# Returns the total number of duplicate rows in the dataset.\n",
    "len(duplicate_rows)"
   ]
  },
  {
   "cell_type": "code",
   "execution_count": 170,
   "id": "0117bf76-42b3-44cf-9d45-0b3c6f6c3e7f",
   "metadata": {},
   "outputs": [
    {
     "data": {
      "text/plain": [
       "154"
      ]
     },
     "execution_count": 170,
     "metadata": {},
     "output_type": "execute_result"
    }
   ],
   "source": [
    "# Returns the number of duplicate values specifically in the 'Respondent' column.\n",
    "len(duplicate_rows['Respondent'])"
   ]
  },
  {
   "cell_type": "markdown",
   "id": "2384f920-1c57-4a7d-bdf9-bc1468d7d8b4",
   "metadata": {},
   "source": [
    "#### Removing Duplicates"
   ]
  },
  {
   "cell_type": "code",
   "execution_count": 171,
   "id": "cf50ceb2-d251-4a8e-a057-533ff067a89d",
   "metadata": {},
   "outputs": [],
   "source": [
    "# Removes duplicate rows from the dataset to ensure unique records.\n",
    "df.drop_duplicates(inplace=True)"
   ]
  },
  {
   "cell_type": "code",
   "execution_count": 172,
   "id": "93faaddf-a003-451b-877e-b834f156313e",
   "metadata": {},
   "outputs": [
    {
     "data": {
      "text/plain": [
       "11398"
      ]
     },
     "execution_count": 172,
     "metadata": {},
     "output_type": "execute_result"
    }
   ],
   "source": [
    "# Returns the total number of rows after removing duplicates.\n",
    "len(df)"
   ]
  },
  {
   "cell_type": "code",
   "execution_count": 173,
   "id": "2a5f5e9a-29fe-41d1-9d59-bb9139f23721",
   "metadata": {},
   "outputs": [
    {
     "data": {
      "text/plain": [
       "0"
      ]
     },
     "execution_count": 173,
     "metadata": {},
     "output_type": "execute_result"
    }
   ],
   "source": [
    "# To check if any duplicate rows remain in the dataset.\n",
    "len(df[df.duplicated()])"
   ]
  },
  {
   "cell_type": "code",
   "execution_count": 212,
   "id": "307be977-2862-4187-bb5d-af2ed29bb7c1",
   "metadata": {},
   "outputs": [
    {
     "data": {
      "text/plain": [
       "0"
      ]
     },
     "execution_count": 212,
     "metadata": {},
     "output_type": "execute_result"
    }
   ],
   "source": [
    "# To check if any duplicate values specifically not in the 'Respondent' column.\n",
    "len(df[df['Respondent'].duplicated()])"
   ]
  },
  {
   "cell_type": "code",
   "execution_count": 175,
   "id": "fac88be8-0e7d-47b9-8d82-f2b27b63d7e0",
   "metadata": {},
   "outputs": [
    {
     "data": {
      "text/plain": [
       "(11398, 82)"
      ]
     },
     "execution_count": 175,
     "metadata": {},
     "output_type": "execute_result"
    }
   ],
   "source": [
    "# Displays the updated shape of the dataset after duplicate removal.\n",
    "df.shape"
   ]
  },
  {
   "cell_type": "code",
   "execution_count": 176,
   "id": "d0a31ef4-c971-44c9-866f-10918085fecf",
   "metadata": {},
   "outputs": [
    {
     "data": {
      "text/plain": [
       "(11398,)"
      ]
     },
     "execution_count": 176,
     "metadata": {},
     "output_type": "execute_result"
    }
   ],
   "source": [
    "# Returns the shape of the 'Respondent' column, verifying its dimensions after duplicate removal.\n",
    "df['Respondent'].shape"
   ]
  },
  {
   "cell_type": "markdown",
   "id": "9ae44eac-35c7-4f38-a320-85c1a037d35c",
   "metadata": {},
   "source": [
    "#### Identifying Missing values"
   ]
  },
  {
   "cell_type": "code",
   "execution_count": 177,
   "id": "61693279-ba2b-41d3-a6c3-4fdcb4bc100d",
   "metadata": {},
   "outputs": [
    {
     "data": {
      "text/plain": [
       "Respondent        0\n",
       "MainBranch        0\n",
       "Hobbyist          0\n",
       "OpenSourcer       0\n",
       "OpenSource       81\n",
       "               ... \n",
       "Sexuality       542\n",
       "Ethnicity       675\n",
       "Dependents      140\n",
       "SurveyLength     19\n",
       "SurveyEase       14\n",
       "Length: 82, dtype: int64"
      ]
     },
     "execution_count": 177,
     "metadata": {},
     "output_type": "execute_result"
    }
   ],
   "source": [
    "# Returns the number of missing values in each column.\n",
    "df.isnull().sum()"
   ]
  },
  {
   "cell_type": "code",
   "execution_count": 178,
   "id": "7e9a28d2-9eb3-4641-a705-a72fa42b89a8",
   "metadata": {},
   "outputs": [
    {
     "name": "stdout",
     "output_type": "stream",
     "text": [
      "OpenSource                  81\n",
      "Student                     51\n",
      "EdLevel                    112\n",
      "UndergradMajor             737\n",
      "EduOther                   164\n",
      "OrgSize                     96\n",
      "DevType                     65\n",
      "YearsCode                    9\n",
      "Age1stCode                  13\n",
      "YearsCodePro                16\n",
      "JobSat                       1\n",
      "LastInt                    413\n",
      "FizzBuzz                    37\n",
      "JobFactors                   3\n",
      "ResumeUpdate                39\n",
      "CompTotal                  809\n",
      "CompFreq                   206\n",
      "ConvertedComp              816\n",
      "WorkWeekHrs                122\n",
      "WorkPlan                   121\n",
      "WorkChallenge              164\n",
      "WorkRemote                   8\n",
      "WorkLoc                     32\n",
      "ImpSyn                       5\n",
      "CodeRev                      1\n",
      "CodeRevHrs                2426\n",
      "UnitTests                   29\n",
      "PurchaseHow                196\n",
      "PurchaseWhat                38\n",
      "LanguageWorkedWith          11\n",
      "LanguageDesireNextYear     134\n",
      "DatabaseWorkedWith         453\n",
      "DatabaseDesireNextYear    1042\n",
      "PlatformWorkedWith         411\n",
      "PlatformDesireNextYear     544\n",
      "WebFrameWorkedWith        1393\n",
      "WebFrameDesireNextYear    1617\n",
      "MiscTechWorkedWith        2182\n",
      "MiscTechDesireNextYear    1455\n",
      "DevEnviron                  29\n",
      "OpSys                       34\n",
      "Containers                  82\n",
      "BlockchainOrg             2322\n",
      "BlockchainIs              2610\n",
      "BetterLife                  98\n",
      "ITperson                    35\n",
      "OffOn                       38\n",
      "SocialMedia                293\n",
      "Extraversion                20\n",
      "ScreenName                 507\n",
      "SOVisit1st                 325\n",
      "SOVisitFreq                  5\n",
      "SOVisitTo                    1\n",
      "SOFindAnswer                 3\n",
      "SOTimeSaved                 50\n",
      "SOHowMuchTime             1917\n",
      "SOAccount                    1\n",
      "SOPartFreq                1128\n",
      "SOJobs                       6\n",
      "EntTeams                     5\n",
      "WelcomeChange               85\n",
      "SONewContent              1965\n",
      "Age                        287\n",
      "Gender                      73\n",
      "Trans                      123\n",
      "Sexuality                  542\n",
      "Ethnicity                  675\n",
      "Dependents                 140\n",
      "SurveyLength                19\n",
      "SurveyEase                  14\n"
     ]
    }
   ],
   "source": [
    "# Identifies columns that contain missing values and filters them out.\n",
    "missing_values = df.isnull().sum()[df.isnull().sum() != 0]\n",
    "print(missing_values.to_string())"
   ]
  },
  {
   "cell_type": "markdown",
   "id": "4641274d-84a1-4a9e-abcf-236924d7bc21",
   "metadata": {},
   "source": [
    "#### Replacing Missing Values"
   ]
  },
  {
   "cell_type": "code",
   "execution_count": 179,
   "id": "fcb29da8-dc6a-4788-8669-5a8eb1c136c1",
   "metadata": {},
   "outputs": [
    {
     "data": {
      "text/plain": [
       "0    Office\n",
       "Name: WorkLoc, dtype: object"
      ]
     },
     "execution_count": 179,
     "metadata": {},
     "output_type": "execute_result"
    }
   ],
   "source": [
    "# Determines the most frequently occurring value (mode) in the 'WorkLoc' column.\n",
    "df['WorkLoc'].mode()"
   ]
  },
  {
   "cell_type": "code",
   "execution_count": 180,
   "id": "55941d5e-5f8f-4a26-9990-b2aa170aaecd",
   "metadata": {},
   "outputs": [],
   "source": [
    "# Fills missing values in the 'WorkLoc' column with mode'Office' as a default value.\n",
    "df['WorkLoc'] = df['WorkLoc'].fillna('Office')"
   ]
  },
  {
   "cell_type": "code",
   "execution_count": 181,
   "id": "34197cb7-de2a-4a02-b409-7f877dfe92d8",
   "metadata": {},
   "outputs": [
    {
     "data": {
      "text/plain": [
       "0"
      ]
     },
     "execution_count": 181,
     "metadata": {},
     "output_type": "execute_result"
    }
   ],
   "source": [
    "# To verify that there are no remaining missing values in the 'WorkLoc' column.\n",
    "df['WorkLoc'].isnull().sum()"
   ]
  },
  {
   "cell_type": "code",
   "execution_count": 182,
   "id": "33a05848-5414-4dee-bb19-9b82b15974c7",
   "metadata": {},
   "outputs": [
    {
     "data": {
      "text/plain": [
       "0    Less than once per month / Never\n",
       "Name: WorkRemote, dtype: object"
      ]
     },
     "execution_count": 182,
     "metadata": {},
     "output_type": "execute_result"
    }
   ],
   "source": [
    "# Determines the most frequently occurring value (mode) in the 'WorkRemote' column.\n",
    "df['WorkRemote'].mode()"
   ]
  },
  {
   "cell_type": "code",
   "execution_count": 183,
   "id": "9248801d-eb4b-40aa-86a0-e5dd6210be62",
   "metadata": {},
   "outputs": [],
   "source": [
    "# Fills missing values in the 'WorkRemote' column with mode value.\n",
    "df['WorkRemote'] = df['WorkRemote'].fillna('Less than once per month / Never')"
   ]
  },
  {
   "cell_type": "code",
   "execution_count": 184,
   "id": "b363d16c-9aa0-475b-ac6d-e20e9f15422f",
   "metadata": {},
   "outputs": [
    {
     "data": {
      "text/plain": [
       "0"
      ]
     },
     "execution_count": 184,
     "metadata": {},
     "output_type": "execute_result"
    }
   ],
   "source": [
    "#To verify that there are no remaining missing values in the 'WorkRemote' column.\n",
    "df['WorkRemote'].isnull().sum()"
   ]
  },
  {
   "cell_type": "code",
   "execution_count": 187,
   "id": "cdfc1b9e-e35e-476b-8796-bd3a9fa8772e",
   "metadata": {},
   "outputs": [
    {
     "data": {
      "text/plain": [
       "57745.0"
      ]
     },
     "execution_count": 187,
     "metadata": {},
     "output_type": "execute_result"
    }
   ],
   "source": [
    "# Computes the median salary from the 'ConvertedComp' column.\n",
    "df['ConvertedComp'].median()"
   ]
  },
  {
   "cell_type": "code",
   "execution_count": 188,
   "id": "fa7b0f2f-8ad9-4d4a-bbce-b3cd12810ae2",
   "metadata": {},
   "outputs": [],
   "source": [
    "# Fills missing values in the 'ConvertedComp' column with median value.\n",
    "df['ConvertedComp'] = df['ConvertedComp'].fillna(57745)"
   ]
  },
  {
   "cell_type": "code",
   "execution_count": 189,
   "id": "634e3d73-121e-4465-8289-6ab23296a06c",
   "metadata": {},
   "outputs": [
    {
     "data": {
      "text/plain": [
       "0"
      ]
     },
     "execution_count": 189,
     "metadata": {},
     "output_type": "execute_result"
    }
   ],
   "source": [
    "# To verify that there are no remaining missing values in the 'ConvertedComp' column.\n",
    "df['ConvertedComp'].isnull().sum()"
   ]
  },
  {
   "cell_type": "markdown",
   "id": "c9497e54-2556-4ceb-8c0a-cdebb2a68b5e",
   "metadata": {},
   "source": [
    "#### One Hot Encoding"
   ]
  },
  {
   "cell_type": "code",
   "execution_count": 185,
   "id": "bdbb1c9e-9cbf-43b1-8ad3-7b94c0108846",
   "metadata": {},
   "outputs": [
    {
     "data": {
      "text/plain": [
       "Employment\n",
       "Employed full-time    10968\n",
       "Employed part-time      430\n",
       "Name: count, dtype: int64"
      ]
     },
     "execution_count": 185,
     "metadata": {},
     "output_type": "execute_result"
    }
   ],
   "source": [
    "# Counts the occurrences of each unique category in the 'Employment' column.\n",
    "df[\"Employment\"].value_counts()"
   ]
  },
  {
   "cell_type": "code",
   "execution_count": 186,
   "id": "30eef766-a451-4b08-9d88-def4487ccca7",
   "metadata": {},
   "outputs": [
    {
     "data": {
      "text/html": [
       "<div>\n",
       "<style scoped>\n",
       "    .dataframe tbody tr th:only-of-type {\n",
       "        vertical-align: middle;\n",
       "    }\n",
       "\n",
       "    .dataframe tbody tr th {\n",
       "        vertical-align: top;\n",
       "    }\n",
       "\n",
       "    .dataframe thead th {\n",
       "        text-align: right;\n",
       "    }\n",
       "</style>\n",
       "<table border=\"1\" class=\"dataframe\">\n",
       "  <thead>\n",
       "    <tr style=\"text-align: right;\">\n",
       "      <th></th>\n",
       "      <th>Employment</th>\n",
       "      <th>Employed full-time</th>\n",
       "      <th>Employed part-time</th>\n",
       "    </tr>\n",
       "  </thead>\n",
       "  <tbody>\n",
       "    <tr>\n",
       "      <th>0</th>\n",
       "      <td>Employed full-time</td>\n",
       "      <td>1</td>\n",
       "      <td>0</td>\n",
       "    </tr>\n",
       "    <tr>\n",
       "      <th>1</th>\n",
       "      <td>Employed full-time</td>\n",
       "      <td>1</td>\n",
       "      <td>0</td>\n",
       "    </tr>\n",
       "    <tr>\n",
       "      <th>2</th>\n",
       "      <td>Employed full-time</td>\n",
       "      <td>1</td>\n",
       "      <td>0</td>\n",
       "    </tr>\n",
       "    <tr>\n",
       "      <th>3</th>\n",
       "      <td>Employed full-time</td>\n",
       "      <td>1</td>\n",
       "      <td>0</td>\n",
       "    </tr>\n",
       "    <tr>\n",
       "      <th>4</th>\n",
       "      <td>Employed full-time</td>\n",
       "      <td>1</td>\n",
       "      <td>0</td>\n",
       "    </tr>\n",
       "  </tbody>\n",
       "</table>\n",
       "</div>"
      ],
      "text/plain": [
       "           Employment  Employed full-time  Employed part-time\n",
       "0  Employed full-time                   1                   0\n",
       "1  Employed full-time                   1                   0\n",
       "2  Employed full-time                   1                   0\n",
       "3  Employed full-time                   1                   0\n",
       "4  Employed full-time                   1                   0"
      ]
     },
     "execution_count": 186,
     "metadata": {},
     "output_type": "execute_result"
    }
   ],
   "source": [
    "# Performs one-hot encoding on the 'Employment' column, converting categorical values into binary columns.\n",
    "df_encoded = pd.get_dummies(df[\"Employment\"])\n",
    "df_encoded = df_encoded.astype(int)\n",
    "df = pd.concat([df, df_encoded], axis=1)\n",
    "df[['Employment','Employed full-time','Employed part-time']].head()"
   ]
  },
  {
   "cell_type": "markdown",
   "id": "240dd8d0-4636-45b0-9534-6514e808e1f9",
   "metadata": {},
   "source": [
    "#### Feature Scaling"
   ]
  },
  {
   "cell_type": "markdown",
   "id": "899c5c49-1fe6-4a5d-8866-9c29b6511e7a",
   "metadata": {},
   "source": [
    "*Min-Max Scaling is applied to the ConvertedComp column to normalize the salary values.*"
   ]
  },
  {
   "cell_type": "code",
   "execution_count": 190,
   "id": "e4c265f8-3b9e-4ac0-90b7-5c7e7d732c33",
   "metadata": {},
   "outputs": [
    {
     "data": {
      "text/plain": [
       "<matplotlib.legend.Legend at 0x2343b07b6b0>"
      ]
     },
     "execution_count": 190,
     "metadata": {},
     "output_type": "execute_result"
    },
    {
     "data": {
      "image/png": "[encoded data removed]",
      "text/plain": [
       "<Figure size 640x480 with 1 Axes>"
      ]
     },
     "metadata": {},
     "output_type": "display_data"
    }
   ],
   "source": [
    "# Min-Max Scaling\n",
    "scaler_minmax = MinMaxScaler()\n",
    "df['ConvertedComp_Normalized'] = scaler_minmax.fit_transform(df[['ConvertedComp']])\n",
    "\n",
    "# Histogram for Min-Max Scaling\n",
    "plt.hist(df['ConvertedComp_Normalized'], bins=30, color='blue', alpha=0.7, label='Min-Max Scaled')\n",
    "plt.title('Min-Max Scaled Distribution')\n",
    "plt.xlabel('Scaled Value')\n",
    "plt.ylabel('Frequency')\n",
    "plt.legend()\n"
   ]
  },
  {
   "cell_type": "markdown",
   "id": "220b8e0f-7ebc-430f-8159-9ddaa7747cdf",
   "metadata": {},
   "source": [
    "*A log transformation is applied to the ConvertedComp_Normalized column to reduce skewness in distribution. The distribution is plotted before and after log transformation to observe improvements in skewness.*"
   ]
  },
  {
   "cell_type": "code",
   "execution_count": 191,
   "id": "c0f1af59-b3a9-44e5-ad81-30e502ea07ee",
   "metadata": {},
   "outputs": [
    {
     "data": {
      "image/png": "[encoded data removed]",
      "text/plain": [
       "<Figure size 1200x500 with 2 Axes>"
      ]
     },
     "metadata": {},
     "output_type": "display_data"
    }
   ],
   "source": [
    "# Applies log transformation\n",
    "df['ConvertedComp_Log'] = np.log(df['ConvertedComp_Normalized'] + 1e-6)\n",
    "\n",
    "# Creates subplots to compare distributions before and after transformation\n",
    "fig, axes = plt.subplots(1, 2, figsize=(12, 5))\n",
    "\n",
    "# Plots original normalized distribution\n",
    "sns.histplot(df['ConvertedComp_Normalized'], bins=50, kde=True, ax=axes[0], color='blue')\n",
    "axes[0].set_title('Before Log Transformation')\n",
    "axes[0].set_xlabel('ConvertedComp_Normalized')\n",
    "axes[0].set_ylabel('Frequency')\n",
    "\n",
    "# Plots log-transformed distribution\n",
    "sns.histplot(df['ConvertedComp_Log'], bins=50, kde=True, ax=axes[1], color='green')\n",
    "axes[1].set_title('After Log Transformation')\n",
    "axes[1].set_xlabel('ConvertedComp_Log')\n",
    "axes[1].set_ylabel('Frequency')\n",
    "\n",
    "plt.show()"
   ]
  },
  {
   "cell_type": "markdown",
   "id": "196a0830-1807-4a70-9761-a8763e432afe",
   "metadata": {},
   "source": [
    "#### Feature Extraction"
   ]
  },
  {
   "cell_type": "markdown",
   "id": "f1df8b8e-f66d-4a17-9d0a-d5c70eb97a5c",
   "metadata": {},
   "source": [
    "*A new feature, Annual_Compensation is derived by converting CompFreq (Yearly, Monthly, Weekly) into a numerical column CompFreq_Num and computing the product of CompTotal and CompFreq_Num*"
   ]
  },
  {
   "cell_type": "code",
   "execution_count": 192,
   "id": "541dad27-20bc-476b-98ca-8c2415ca2460",
   "metadata": {},
   "outputs": [
    {
     "data": {
      "text/plain": [
       "CompFreq\n",
       "Yearly     6073\n",
       "Monthly    4788\n",
       "Weekly      331\n",
       "Name: count, dtype: int64"
      ]
     },
     "execution_count": 192,
     "metadata": {},
     "output_type": "execute_result"
    }
   ],
   "source": [
    "df['CompFreq'].value_counts()"
   ]
  },
  {
   "cell_type": "code",
   "execution_count": 193,
   "id": "447eb5cb-2fdc-46b3-9938-c5383e1ab35f",
   "metadata": {},
   "outputs": [
    {
     "data": {
      "text/plain": [
       "CompFreq\n",
       "Yearly     6279\n",
       "Monthly    4788\n",
       "Weekly      331\n",
       "Name: count, dtype: int64"
      ]
     },
     "execution_count": 193,
     "metadata": {},
     "output_type": "execute_result"
    }
   ],
   "source": [
    "# Fills missing values in 'CompFreq' with most repeated value\n",
    "df['CompFreq'] = df['CompFreq'].fillna(\"Yearly\")\n",
    "df['CompFreq'].value_counts()"
   ]
  },
  {
   "cell_type": "code",
   "execution_count": 194,
   "id": "739c8eeb-03c2-4b0b-b6db-096382389e42",
   "metadata": {},
   "outputs": [],
   "source": [
    "# Converts compensation frequency into numerical equivalents\n",
    "df['CompFreq_Num'] = np.where(df['CompFreq'] == 'Yearly', 1, \n",
    "                      np.where(df['CompFreq'] == 'Monthly', 12, 52))"
   ]
  },
  {
   "cell_type": "code",
   "execution_count": 195,
   "id": "01da161c-a035-4a19-aa58-7d610b1aac38",
   "metadata": {},
   "outputs": [
    {
     "data": {
      "text/plain": [
       "CompFreq_Num\n",
       "1     6279\n",
       "12    4788\n",
       "52     331\n",
       "Name: count, dtype: int64"
      ]
     },
     "execution_count": 195,
     "metadata": {},
     "output_type": "execute_result"
    }
   ],
   "source": [
    "# Displays the count of each unique numerical value in 'CompFreq_Num' to verify with 'CompFreq'\n",
    "df['CompFreq_Num'].value_counts()"
   ]
  },
  {
   "cell_type": "code",
   "execution_count": 196,
   "id": "91ac7796-4341-40ad-8d19-ce3dd7e9acc2",
   "metadata": {},
   "outputs": [
    {
     "data": {
      "text/html": [
       "<div>\n",
       "<style scoped>\n",
       "    .dataframe tbody tr th:only-of-type {\n",
       "        vertical-align: middle;\n",
       "    }\n",
       "\n",
       "    .dataframe tbody tr th {\n",
       "        vertical-align: top;\n",
       "    }\n",
       "\n",
       "    .dataframe thead th {\n",
       "        text-align: right;\n",
       "    }\n",
       "</style>\n",
       "<table border=\"1\" class=\"dataframe\">\n",
       "  <thead>\n",
       "    <tr style=\"text-align: right;\">\n",
       "      <th></th>\n",
       "      <th>ConvertedComp</th>\n",
       "      <th>CompFreq</th>\n",
       "      <th>CompFreq_Num</th>\n",
       "      <th>Annual_Compensation</th>\n",
       "    </tr>\n",
       "  </thead>\n",
       "  <tbody>\n",
       "    <tr>\n",
       "      <th>0</th>\n",
       "      <td>61000.0</td>\n",
       "      <td>Yearly</td>\n",
       "      <td>1</td>\n",
       "      <td>61000.0</td>\n",
       "    </tr>\n",
       "    <tr>\n",
       "      <th>1</th>\n",
       "      <td>95179.0</td>\n",
       "      <td>Yearly</td>\n",
       "      <td>1</td>\n",
       "      <td>95179.0</td>\n",
       "    </tr>\n",
       "    <tr>\n",
       "      <th>2</th>\n",
       "      <td>90000.0</td>\n",
       "      <td>Yearly</td>\n",
       "      <td>1</td>\n",
       "      <td>90000.0</td>\n",
       "    </tr>\n",
       "    <tr>\n",
       "      <th>3</th>\n",
       "      <td>455352.0</td>\n",
       "      <td>Monthly</td>\n",
       "      <td>12</td>\n",
       "      <td>5464224.0</td>\n",
       "    </tr>\n",
       "    <tr>\n",
       "      <th>4</th>\n",
       "      <td>65277.0</td>\n",
       "      <td>Yearly</td>\n",
       "      <td>1</td>\n",
       "      <td>65277.0</td>\n",
       "    </tr>\n",
       "    <tr>\n",
       "      <th>5</th>\n",
       "      <td>31140.0</td>\n",
       "      <td>Monthly</td>\n",
       "      <td>12</td>\n",
       "      <td>373680.0</td>\n",
       "    </tr>\n",
       "    <tr>\n",
       "      <th>6</th>\n",
       "      <td>41244.0</td>\n",
       "      <td>Monthly</td>\n",
       "      <td>12</td>\n",
       "      <td>494928.0</td>\n",
       "    </tr>\n",
       "    <tr>\n",
       "      <th>7</th>\n",
       "      <td>103000.0</td>\n",
       "      <td>Yearly</td>\n",
       "      <td>1</td>\n",
       "      <td>103000.0</td>\n",
       "    </tr>\n",
       "    <tr>\n",
       "      <th>8</th>\n",
       "      <td>69000.0</td>\n",
       "      <td>Yearly</td>\n",
       "      <td>1</td>\n",
       "      <td>69000.0</td>\n",
       "    </tr>\n",
       "    <tr>\n",
       "      <th>9</th>\n",
       "      <td>26388.0</td>\n",
       "      <td>Monthly</td>\n",
       "      <td>12</td>\n",
       "      <td>316656.0</td>\n",
       "    </tr>\n",
       "    <tr>\n",
       "      <th>10</th>\n",
       "      <td>6300.0</td>\n",
       "      <td>Monthly</td>\n",
       "      <td>12</td>\n",
       "      <td>75600.0</td>\n",
       "    </tr>\n",
       "    <tr>\n",
       "      <th>11</th>\n",
       "      <td>114000.0</td>\n",
       "      <td>Yearly</td>\n",
       "      <td>1</td>\n",
       "      <td>114000.0</td>\n",
       "    </tr>\n",
       "    <tr>\n",
       "      <th>12</th>\n",
       "      <td>100000.0</td>\n",
       "      <td>Weekly</td>\n",
       "      <td>52</td>\n",
       "      <td>5200000.0</td>\n",
       "    </tr>\n",
       "    <tr>\n",
       "      <th>13</th>\n",
       "      <td>1100000.0</td>\n",
       "      <td>Weekly</td>\n",
       "      <td>52</td>\n",
       "      <td>57200000.0</td>\n",
       "    </tr>\n",
       "    <tr>\n",
       "      <th>14</th>\n",
       "      <td>51312.0</td>\n",
       "      <td>Monthly</td>\n",
       "      <td>12</td>\n",
       "      <td>615744.0</td>\n",
       "    </tr>\n",
       "  </tbody>\n",
       "</table>\n",
       "</div>"
      ],
      "text/plain": [
       "    ConvertedComp CompFreq  CompFreq_Num  Annual_Compensation\n",
       "0         61000.0   Yearly             1              61000.0\n",
       "1         95179.0   Yearly             1              95179.0\n",
       "2         90000.0   Yearly             1              90000.0\n",
       "3        455352.0  Monthly            12            5464224.0\n",
       "4         65277.0   Yearly             1              65277.0\n",
       "5         31140.0  Monthly            12             373680.0\n",
       "6         41244.0  Monthly            12             494928.0\n",
       "7        103000.0   Yearly             1             103000.0\n",
       "8         69000.0   Yearly             1              69000.0\n",
       "9         26388.0  Monthly            12             316656.0\n",
       "10         6300.0  Monthly            12              75600.0\n",
       "11       114000.0   Yearly             1             114000.0\n",
       "12       100000.0   Weekly            52            5200000.0\n",
       "13      1100000.0   Weekly            52           57200000.0\n",
       "14        51312.0  Monthly            12             615744.0"
      ]
     },
     "execution_count": 196,
     "metadata": {},
     "output_type": "execute_result"
    }
   ],
   "source": [
    "# Calculates 'Annual_Compensation' by multiplying 'CompTotal' with 'CompFreq_Num\n",
    "df['Annual_Compensation'] = df['ConvertedComp'] * df['CompFreq_Num']\n",
    "#Displays top 15 rows for calculation verification\n",
    "df[['ConvertedComp','CompFreq','CompFreq_Num','Annual_Compensation']].head(15)"
   ]
  },
  {
   "cell_type": "markdown",
   "id": "1d6e8845-3c1a-4e5d-8bb9-d687934307d0",
   "metadata": {},
   "source": [
    "*A new feature, Experience_Level is derived by categorizing experience levels as Entry, Mid, Senior, and Expert based on years of professional coding experience from YearsCodePro*"
   ]
  },
  {
   "cell_type": "code",
   "execution_count": 197,
   "id": "85de3ad4-6015-4baf-9097-fa0cc9125559",
   "metadata": {},
   "outputs": [
    {
     "data": {
      "text/plain": [
       "array(['Less than 1 year', '4', '8', '3', '2', '13', '18', '1', '22',\n",
       "       '23', '19', '10', '9', '7', '5', '6', '20', '12', '35', '11', '15',\n",
       "       '16', '21', '29', '14', '26', '30', '25', '17', nan, '28', '37',\n",
       "       '40', '33', '24', '32', '34', '27', '39', '31', '38', '44', '43',\n",
       "       '36', '48', '42', '45', '47'], dtype=object)"
      ]
     },
     "execution_count": 197,
     "metadata": {},
     "output_type": "execute_result"
    }
   ],
   "source": [
    "# Displays the unique values in the 'YearsCodePro' column\n",
    "df['YearsCodePro'].unique()"
   ]
  },
  {
   "cell_type": "code",
   "execution_count": 198,
   "id": "7a6a4e9b-8517-43f8-bb2e-4ca8ad4d1a77",
   "metadata": {},
   "outputs": [
    {
     "data": {
      "text/plain": [
       "array([ 0.,  4.,  8.,  3.,  2., 13., 18.,  1., 22., 23., 19., 10.,  9.,\n",
       "        7.,  5.,  6., 20., 12., 35., 11., 15., 16., 21., 29., 14., 26.,\n",
       "       30., 25., 17., nan, 28., 37., 40., 33., 24., 32., 34., 27., 39.,\n",
       "       31., 38., 44., 43., 36., 48., 42., 45., 47.])"
      ]
     },
     "execution_count": 198,
     "metadata": {},
     "output_type": "execute_result"
    }
   ],
   "source": [
    "# Replaces 'Less than 1 year' with '0' to convert the column into a numeric format\n",
    "df['YearsCodePro'] = df['YearsCodePro'].replace('Less than 1 year', '0') \n",
    "# Converts 'YearsCodePro' from object (string) type to float\n",
    "df['YearsCodePro'] = df['YearsCodePro'].astype('float')\n",
    "# Displays the updated unique values to verify the transformation\n",
    "df['YearsCodePro'].unique()"
   ]
  },
  {
   "cell_type": "code",
   "execution_count": 199,
   "id": "c7560874-4cc3-483a-b20d-32ffafb6c3a0",
   "metadata": {},
   "outputs": [
    {
     "data": {
      "text/plain": [
       "dtype('float64')"
      ]
     },
     "execution_count": 199,
     "metadata": {},
     "output_type": "execute_result"
    }
   ],
   "source": [
    "# Checks the data type of the 'YearsCodePro' column to confirm conversion\n",
    "df['YearsCodePro'].dtype"
   ]
  },
  {
   "cell_type": "code",
   "execution_count": 200,
   "id": "2c727e65-0871-4edf-8ec3-397f5e516755",
   "metadata": {},
   "outputs": [],
   "source": [
    "# Creates a new column 'Experience_Level' based on 'YearsCodePro'\n",
    "df['Experience_Level'] = np.where(df['YearsCodePro'] <= 2, 'Entry',\n",
    "                          np.where(df['YearsCodePro'] <= 5, 'Mid',\n",
    "                          np.where(df['YearsCodePro'] <= 10, 'Senior', 'Expert')))"
   ]
  },
  {
   "cell_type": "code",
   "execution_count": 201,
   "id": "356acceb-b356-4776-9d5c-67ef09112973",
   "metadata": {},
   "outputs": [],
   "source": [
    "#Converts float type into Int64 \n",
    "df['YearsCodePro'] = df['YearsCodePro'].astype('Int64')  "
   ]
  },
  {
   "cell_type": "code",
   "execution_count": 202,
   "id": "f03ae2f2-286e-42e9-8f0e-1f52b81d176e",
   "metadata": {},
   "outputs": [
    {
     "data": {
      "text/html": [
       "<div>\n",
       "<style scoped>\n",
       "    .dataframe tbody tr th:only-of-type {\n",
       "        vertical-align: middle;\n",
       "    }\n",
       "\n",
       "    .dataframe tbody tr th {\n",
       "        vertical-align: top;\n",
       "    }\n",
       "\n",
       "    .dataframe thead th {\n",
       "        text-align: right;\n",
       "    }\n",
       "</style>\n",
       "<table border=\"1\" class=\"dataframe\">\n",
       "  <thead>\n",
       "    <tr style=\"text-align: right;\">\n",
       "      <th></th>\n",
       "      <th>YearsCodePro</th>\n",
       "      <th>Experience_Level</th>\n",
       "    </tr>\n",
       "  </thead>\n",
       "  <tbody>\n",
       "    <tr>\n",
       "      <th>0</th>\n",
       "      <td>0</td>\n",
       "      <td>Entry</td>\n",
       "    </tr>\n",
       "    <tr>\n",
       "      <th>1</th>\n",
       "      <td>4</td>\n",
       "      <td>Mid</td>\n",
       "    </tr>\n",
       "    <tr>\n",
       "      <th>2</th>\n",
       "      <td>8</td>\n",
       "      <td>Senior</td>\n",
       "    </tr>\n",
       "    <tr>\n",
       "      <th>3</th>\n",
       "      <td>3</td>\n",
       "      <td>Mid</td>\n",
       "    </tr>\n",
       "    <tr>\n",
       "      <th>4</th>\n",
       "      <td>2</td>\n",
       "      <td>Entry</td>\n",
       "    </tr>\n",
       "  </tbody>\n",
       "</table>\n",
       "</div>"
      ],
      "text/plain": [
       "   YearsCodePro Experience_Level\n",
       "0             0            Entry\n",
       "1             4              Mid\n",
       "2             8           Senior\n",
       "3             3              Mid\n",
       "4             2            Entry"
      ]
     },
     "execution_count": 202,
     "metadata": {},
     "output_type": "execute_result"
    }
   ],
   "source": [
    "df[['YearsCodePro','Experience_Level']].head()"
   ]
  },
  {
   "cell_type": "markdown",
   "id": "680f8008-8159-47b1-b86b-650cdd51ad53",
   "metadata": {},
   "source": [
    "####  Handling Outliers"
   ]
  },
  {
   "cell_type": "code",
   "execution_count": 203,
   "id": "2c02e558-fb7f-481d-a550-5fa570bae45e",
   "metadata": {},
   "outputs": [
    {
     "data": {
      "image/png": "[encoded data removed]",
      "text/plain": [
       "<Figure size 1000x500 with 1 Axes>"
      ]
     },
     "metadata": {},
     "output_type": "display_data"
    }
   ],
   "source": [
    "plt.figure(figsize=(10,5))\n",
    "sns.boxplot(x=df.Annual_Compensation, data=df)\n",
    "plt.show()"
   ]
  },
  {
   "cell_type": "code",
   "execution_count": 204,
   "id": "ccb72a1c-91bc-46d6-9024-e6196b8ff774",
   "metadata": {},
   "outputs": [
    {
     "data": {
      "text/plain": [
       "count    1.139800e+04\n",
       "mean     2.116892e+06\n",
       "std      1.164173e+07\n",
       "min      0.000000e+00\n",
       "25%      6.259800e+04\n",
       "50%      1.150000e+05\n",
       "75%      3.848760e+05\n",
       "max      1.040000e+08\n",
       "Name: Annual_Compensation, dtype: float64"
      ]
     },
     "execution_count": 204,
     "metadata": {},
     "output_type": "execute_result"
    }
   ],
   "source": [
    "# Provides summary statistics for 'ConvertedComp'\n",
    "df['Annual_Compensation'].describe()"
   ]
  },
  {
   "cell_type": "code",
   "execution_count": 205,
   "id": "bf2031de-4af9-4baa-a5eb-7f7567e846b5",
   "metadata": {},
   "outputs": [
    {
     "data": {
      "text/plain": [
       "322278.0"
      ]
     },
     "execution_count": 205,
     "metadata": {},
     "output_type": "execute_result"
    }
   ],
   "source": [
    "# Calculate IQR\n",
    "Q1 = df['Annual_Compensation'].quantile(0.25)  # 25th percentile\n",
    "Q3 = df['Annual_Compensation'].quantile(0.75)  # 75th percentile\n",
    "IQR = Q3 - Q1\n",
    "IQR"
   ]
  },
  {
   "cell_type": "code",
   "execution_count": 206,
   "id": "c51a64ac-ce94-48ee-8543-46eb86d79841",
   "metadata": {},
   "outputs": [
    {
     "name": "stdout",
     "output_type": "stream",
     "text": [
      "-420819.0 \n",
      " 868293.0\n"
     ]
    }
   ],
   "source": [
    "# Define bounds for outliers\n",
    "lower_bound = Q1 - 1.5 * IQR\n",
    "upper_bound = Q3 + 1.5 * IQR\n",
    "print(lower_bound, '\\n', upper_bound)"
   ]
  },
  {
   "cell_type": "code",
   "execution_count": 207,
   "id": "c20a6020-0229-4cc6-aaba-29a58c2313f4",
   "metadata": {},
   "outputs": [
    {
     "data": {
      "text/plain": [
       "11398"
      ]
     },
     "execution_count": 207,
     "metadata": {},
     "output_type": "execute_result"
    }
   ],
   "source": [
    "len(df)"
   ]
  },
  {
   "cell_type": "code",
   "execution_count": 208,
   "id": "4d8d41e6-f262-4950-8b44-5fea60437c5c",
   "metadata": {},
   "outputs": [
    {
     "data": {
      "text/plain": [
       "1128"
      ]
     },
     "execution_count": 208,
     "metadata": {},
     "output_type": "execute_result"
    }
   ],
   "source": [
    "# Creates a filtered dataset that excludes outliers\n",
    "df_no_outliers = df[(df['Annual_Compensation'] >= lower_bound) & (df['Annual_Compensation'] <= upper_bound)]\n",
    "# Returns the number of outliers\n",
    "len(df)-len(df_no_outliers)"
   ]
  },
  {
   "cell_type": "markdown",
   "id": "a05b85e1-4556-43a2-9b5e-13bf120515a1",
   "metadata": {},
   "source": [
    "Since almost 10% of the data are outliers, removing them could cause data loss. So Capping is performed here because it prevents extreme values from skewing analysis without removing valid responses."
   ]
  },
  {
   "cell_type": "code",
   "execution_count": 209,
   "id": "edf6e1b4-16f2-481a-94ba-257d9fd83e3d",
   "metadata": {},
   "outputs": [],
   "source": [
    "# Cap outliers to the upper and lower bounds using the IQR method\n",
    "df['Annual_Compensation'] = np.clip(df['Annual_Compensation'], lower_bound, upper_bound)"
   ]
  },
  {
   "cell_type": "code",
   "execution_count": 210,
   "id": "50576b4c-4161-4321-8326-3ec3c8f61dc5",
   "metadata": {},
   "outputs": [
    {
     "data": {
      "image/png": "[encoded data removed]",
      "text/plain": [
       "<Figure size 1000x500 with 1 Axes>"
      ]
     },
     "metadata": {},
     "output_type": "display_data"
    }
   ],
   "source": [
    "#Verification on Capping\n",
    "plt.figure(figsize=(10,5))\n",
    "sns.boxplot(x=df.Annual_Compensation, data=df)\n",
    "plt.show()"
   ]
  },
  {
   "cell_type": "code",
   "execution_count": 211,
   "id": "837c4e36-b634-4fae-a523-edde0771c029",
   "metadata": {},
   "outputs": [],
   "source": [
    "# Saves the cleaned and processed DataFrame to a CSV file for further EDA\n",
    "df.to_csv('processed_data.csv', index=False)"
   ]
  }
 ],
 "metadata": {
  "kernelspec": {
   "display_name": "Python 3 (ipykernel)",
   "language": "python",
   "name": "python3"
  },
  "language_info": {
   "codemirror_mode": {
    "name": "ipython",
    "version": 3
   },
   "file_extension": ".py",
   "mimetype": "text/x-python",
   "name": "python",
   "nbconvert_exporter": "python",
   "pygments_lexer": "ipython3",
   "version": "3.12.3"
  }
 },
 "nbformat": 4,
 "nbformat_minor": 5
}
